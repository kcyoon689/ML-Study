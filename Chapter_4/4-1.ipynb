{
 "cells": [
  {
   "attachments": {},
   "cell_type": "markdown",
   "metadata": {},
   "source": [
    "$U^l, l =1,2,\\cdots,L$을 초기화한다.\n",
    "\n",
    "repeat  \n",
    "&emsp;$\\mathbb{X}$와 $\\mathbb{Y}$에서 t개의 샘플을 무작위로 뽑아 미니배치 $\\mathbb{X}'$와 $\\mathbb{Y}'$를 만든다.  \n",
    "&emsp; for (l=1 to L) $\\Delta U^l=0$  \n",
    "&emsp; for ($\\mathbb{X}'$의 샘플 각각에 대해)  \n",
    "&emsp;&emsp; 현재 처리하는 샘플을 $x = (x_0, x_1,x_2, \\cdots, x_d)^T$, $y = (y_1, y_2, \\cdots, y_c)^T$라 표기  \n",
    "&emsp;&emsp; $x_0, z^1_0,z^2_0, \\cdots,z^l_0$을 1로 설정한다.\n",
    "\n",
    "// 전방계산  \n",
    "&emsp;&emsp; $x$를 $z^0$에 대입  \n",
    "&emsp;&emsp; for (l=1 to L)  \n",
    "&emsp;&emsp; &emsp; $s^l = U^lz^{l-1}$  \n",
    "&emsp;&emsp; &emsp; $z^l = \\tau_l(s^l)$  \n",
    "&emsp;&emsp; $\\delta = \\tau'_L(s^l) \\odot (y-o)$  \n",
    "  \n",
    "&emsp;&emsp; $\\Delta U^L= \\Delta U^L-\\delta^L(z^{L-1})^T$  \n",
    "&emsp;&emsp; for ($l=L-1$ to 1)  \n",
    "&emsp;&emsp; &emsp; $\\delta^l =((\\delta^{l+1})^T\\tilde U^{l+1})^T \\odot \\tau'_l(s^l)$  \n",
    "&emsp;&emsp; &emsp; $\\Delta U^l = \\Delta U^l-\\delta^l(z^{l-1})^T$\n",
    "  \n",
    "&emsp;&emsp; for($l=L$ to1)  \n",
    "&emsp;&emsp; &emsp; $U^l = U^l - \\rho(\\frac{1}{t})\\Delta U^l$\n",
    "  \n",
    "until"
   ]
  }
 ],
 "metadata": {
  "kernelspec": {
   "display_name": "study",
   "language": "python",
   "name": "python3"
  },
  "language_info": {
   "codemirror_mode": {
    "name": "ipython",
    "version": 3
   },
   "file_extension": ".py",
   "mimetype": "text/x-python",
   "name": "python",
   "nbconvert_exporter": "python",
   "pygments_lexer": "ipython3",
   "version": "3.8.17"
  },
  "orig_nbformat": 4
 },
 "nbformat": 4,
 "nbformat_minor": 2
}
