{
 "cells": [
  {
   "cell_type": "code",
   "execution_count": 12,
   "metadata": {},
   "outputs": [
    {
     "name": "stdout",
     "output_type": "stream",
     "text": [
      "Images: (8, 8)\n",
      "[[2. 2. 2. 2. 2. 1. 1. 1.]\n",
      " [2. 2. 2. 2. 2. 1. 1. 1.]\n",
      " [2. 2. 2. 2. 2. 1. 1. 1.]\n",
      " [2. 2. 2. 2. 2. 1. 1. 1.]\n",
      " [2. 2. 2. 9. 9. 9. 9. 9.]\n",
      " [2. 2. 2. 9. 9. 9. 9. 9.]\n",
      " [2. 2. 2. 9. 9. 9. 9. 9.]\n",
      " [2. 2. 2. 9. 9. 9. 9. 9.]]\n",
      "Filters: (3, 3)\n",
      "padding_X\n",
      "[[0. 0. 0. 0. 0. 0. 0. 0. 0. 0.]\n",
      " [0. 2. 2. 2. 2. 2. 1. 1. 1. 0.]\n",
      " [0. 2. 2. 2. 2. 2. 1. 1. 1. 0.]\n",
      " [0. 2. 2. 2. 2. 2. 1. 1. 1. 0.]\n",
      " [0. 2. 2. 2. 2. 2. 1. 1. 1. 0.]\n",
      " [0. 2. 2. 2. 9. 9. 9. 9. 9. 0.]\n",
      " [0. 2. 2. 2. 9. 9. 9. 9. 9. 0.]\n",
      " [0. 2. 2. 2. 9. 9. 9. 9. 9. 0.]\n",
      " [0. 2. 2. 2. 9. 9. 9. 9. 9. 0.]\n",
      " [0. 0. 0. 0. 0. 0. 0. 0. 0. 0.]]\n",
      "output_X\n",
      "[[0. 0. 0. 0. 0. 0. 0. 0. 0. 0.]\n",
      " [0. 0. 0. 0. 0. 0. 0. 0. 0. 0.]\n",
      " [0. 0. 0. 0. 0. 0. 0. 0. 0. 0.]\n",
      " [0. 0. 0. 0. 0. 0. 0. 0. 0. 0.]\n",
      " [0. 0. 0. 0. 0. 0. 0. 0. 0. 0.]\n",
      " [0. 0. 0. 0. 0. 0. 0. 0. 0. 0.]\n",
      " [0. 0. 0. 0. 0. 0. 0. 0. 0. 0.]\n",
      " [0. 0. 0. 0. 0. 0. 0. 0. 0. 0.]\n",
      " [0. 0. 0. 0. 0. 0. 0. 0. 0. 0.]\n",
      " [0. 0. 0. 0. 0. 0. 0. 0. 0. 0.]]\n"
     ]
    }
   ],
   "source": [
    "import numpy as np\n",
    "import math\n",
    "\n",
    "input_X = np.asarray([\n",
    "    [2, 2, 2, 2, 2, 1, 1, 1],\n",
    "    [2, 2, 2, 2, 2, 1, 1, 1],\n",
    "    [2, 2, 2, 2, 2, 1, 1, 1],\n",
    "    [2, 2, 2, 2, 2, 1, 1, 1],\n",
    "    [2, 2, 2, 9, 9, 9, 9, 9],\n",
    "    [2, 2, 2, 9, 9, 9, 9, 9],\n",
    "    [2, 2, 2, 9, 9, 9, 9, 9],\n",
    "    [2, 2, 2, 9, 9, 9, 9, 9],\n",
    "    ], dtype=np.float32)\n",
    "\n",
    "print('Images:', input_X.shape)\n",
    "print(input_X)\n",
    "\n",
    "filters = np.asarray([\n",
    "    [-1, 0, 1], \n",
    "    [-1, 0, 1], \n",
    "    [-1, 0, 1]\n",
    "    ])\n",
    "\n",
    "print('Filters:', filters.shape)\n",
    "\n",
    "bias = 0.5\n",
    "\n",
    "stride = 2\n",
    "\n",
    "h, w = input_X.shape\n",
    "filter_h, filter_w = filters.shape\n",
    "\n",
    "padding = 1\n",
    "temp_X = np.zeros((h+2*padding,w+2*padding), dtype=np.float32)\n",
    "temp_X[padding:-padding,padding:-padding] = input_X\n",
    "padding_X = temp_X\n",
    "print('padding_X')\n",
    "print(padding_X)\n",
    "\n",
    "h, w = padding_X.shape\n",
    "\n",
    "filter_h_offset = int(math.floor(filter_h/2)) # 1 = floor(3/2)\n",
    "filter_w_offset = int(math.floor(filter_w/2)) # 1 = floor(3/2)\n",
    "\n",
    "# print(filter_h_offset, filter_w_offset)\n",
    "\n",
    "# output_X = np.zeros((h - 2 * filter_h_offset, w - 2 * filter_w_offset))\n",
    "output_X = np.zeros_like(padding_X, dtype=np.float32)\n",
    "print(\"output_X\")\n",
    "print(output_X)"
   ]
  },
  {
   "cell_type": "code",
   "execution_count": 13,
   "metadata": {},
   "outputs": [
    {
     "name": "stdout",
     "output_type": "stream",
     "text": [
      "(10, 10)\n",
      "[[ 0.   0.   0.   0.   0.   0.   0.   0.   0.   0. ]\n",
      " [ 0.   4.5  0.   0.5  0.  -1.5  0.   0.5  0.   0. ]\n",
      " [ 0.   0.   0.   0.   0.   0.   0.   0.   0.   0. ]\n",
      " [ 0.   6.5  0.   0.5  0.  -2.5  0.   0.5  0.   0. ]\n",
      " [ 0.   0.   0.   0.   0.   0.   0.   0.   0.   0. ]\n",
      " [ 0.   6.5  0.  14.5  0.  -0.5  0.   0.5  0.   0. ]\n",
      " [ 0.   0.   0.   0.   0.   0.   0.   0.   0.   0. ]\n",
      " [ 0.   6.5  0.  21.5  0.   0.5  0.   0.5  0.   0. ]\n",
      " [ 0.   0.   0.   0.   0.   0.   0.   0.   0.   0. ]\n",
      " [ 0.   0.   0.   0.   0.   0.   0.   0.   0.   0. ]]\n"
     ]
    }
   ],
   "source": [
    "for i in range(filter_h_offset, h - filter_h_offset, stride):\n",
    "    for j in range(filter_w_offset, w - filter_w_offset, stride):\n",
    "        element_wise_produt = padding_X[i-filter_h_offset:i+filter_h_offset + 1, j-filter_w_offset:j+filter_w_offset + 1] * filters\n",
    "        # print(sum(sum(element_wise_produt)))\n",
    "        output_X[i, j] = sum(sum(element_wise_produt)) + bias\n",
    "# output_X = output_X[filter_h_offset:h-filter_h_offset, filter_w_offset:w-filter_w_offset]\n",
    "print(output_X.shape)\n",
    "print(output_X)"
   ]
  },
  {
   "cell_type": "code",
   "execution_count": 15,
   "metadata": {},
   "outputs": [
    {
     "name": "stdout",
     "output_type": "stream",
     "text": [
      "(7, 7)\n",
      "[[ 0.   0.   0.   0.   0.   0.   0. ]\n",
      " [ 0.   0.5  0.  -2.5  0.   0.5  0. ]\n",
      " [ 0.   0.   0.   0.   0.   0.   0. ]\n",
      " [ 0.  14.5  0.  -0.5  0.   0.5  0. ]\n",
      " [ 0.   0.   0.   0.   0.   0.   0. ]\n",
      " [ 0.  21.5  0.   0.5  0.   0.5  0. ]\n",
      " [ 0.   0.   0.   0.   0.   0.   0. ]]\n"
     ]
    }
   ],
   "source": [
    "output_X = output_X[filter_h_offset:h-filter_h_offset, filter_w_offset:w-filter_w_offset]\n",
    "print(output_X.shape)\n",
    "print(output_X)\n"
   ]
  },
  {
   "cell_type": "code",
   "execution_count": null,
   "metadata": {},
   "outputs": [],
   "source": []
  }
 ],
 "metadata": {
  "kernelspec": {
   "display_name": "study",
   "language": "python",
   "name": "python3"
  },
  "language_info": {
   "codemirror_mode": {
    "name": "ipython",
    "version": 3
   },
   "file_extension": ".py",
   "mimetype": "text/x-python",
   "name": "python",
   "nbconvert_exporter": "python",
   "pygments_lexer": "ipython3",
   "version": "3.8.17"
  },
  "orig_nbformat": 4
 },
 "nbformat": 4,
 "nbformat_minor": 2
}
