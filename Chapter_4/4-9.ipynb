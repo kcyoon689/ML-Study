{
 "cells": [
  {
   "cell_type": "code",
   "execution_count": 1,
   "metadata": {},
   "outputs": [],
   "source": [
    "import numpy as np\n",
    "\n",
    "input_X = np.asarray([\n",
    "    [2, 2, 2, 2, 2, 1, 1, 1],\n",
    "    [2, 2, 2, 2, 2, 1, 1, 1],\n",
    "    [2, 2, 2, 2, 2, 1, 1, 1],\n",
    "    [2, 2, 2, 2, 2, 1, 1, 1],\n",
    "    [2, 2, 2, 9, 9, 9, 9, 9],\n",
    "    [2, 2, 2, 9, 9, 9, 9, 9],\n",
    "    [2, 2, 2, 9, 9, 9, 9, 9],\n",
    "    [2, 2, 2, 9, 9, 9, 9, 9],\n",
    "    ], dtype=np.float32)\n",
    "\n",
    "kernel = np.asarray([\n",
    "    [-1, 0, 1], \n",
    "    [-1, 0, 1], \n",
    "    [-1, 0, 1]\n",
    "    ])\n",
    "\n",
    "bias = 0.5\n",
    "stride = 2\n",
    "padding = 1"
   ]
  },
  {
   "cell_type": "code",
   "execution_count": 2,
   "metadata": {},
   "outputs": [
    {
     "name": "stdout",
     "output_type": "stream",
     "text": [
      "input_X: (8, 8)\n",
      "[[2. 2. 2. 2. 2. 1. 1. 1.]\n",
      " [2. 2. 2. 2. 2. 1. 1. 1.]\n",
      " [2. 2. 2. 2. 2. 1. 1. 1.]\n",
      " [2. 2. 2. 2. 2. 1. 1. 1.]\n",
      " [2. 2. 2. 9. 9. 9. 9. 9.]\n",
      " [2. 2. 2. 9. 9. 9. 9. 9.]\n",
      " [2. 2. 2. 9. 9. 9. 9. 9.]\n",
      " [2. 2. 2. 9. 9. 9. 9. 9.]]\n",
      "kernel: (3, 3)\n",
      "[[-1  0  1]\n",
      " [-1  0  1]\n",
      " [-1  0  1]]\n"
     ]
    }
   ],
   "source": [
    "print('input_X:', input_X.shape)\n",
    "print(input_X)\n",
    "\n",
    "print('kernel:', kernel.shape)\n",
    "print(kernel)"
   ]
  },
  {
   "cell_type": "code",
   "execution_count": 3,
   "metadata": {},
   "outputs": [
    {
     "name": "stdout",
     "output_type": "stream",
     "text": [
      "padding_X.shape:  (10, 10)\n"
     ]
    },
    {
     "data": {
      "text/plain": [
       "array([[0., 0., 0., 0., 0., 0., 0., 0., 0., 0.],\n",
       "       [0., 2., 2., 2., 2., 2., 1., 1., 1., 0.],\n",
       "       [0., 2., 2., 2., 2., 2., 1., 1., 1., 0.],\n",
       "       [0., 2., 2., 2., 2., 2., 1., 1., 1., 0.],\n",
       "       [0., 2., 2., 2., 2., 2., 1., 1., 1., 0.],\n",
       "       [0., 2., 2., 2., 9., 9., 9., 9., 9., 0.],\n",
       "       [0., 2., 2., 2., 9., 9., 9., 9., 9., 0.],\n",
       "       [0., 2., 2., 2., 9., 9., 9., 9., 9., 0.],\n",
       "       [0., 2., 2., 2., 9., 9., 9., 9., 9., 0.],\n",
       "       [0., 0., 0., 0., 0., 0., 0., 0., 0., 0.]], dtype=float32)"
      ]
     },
     "execution_count": 3,
     "metadata": {},
     "output_type": "execute_result"
    }
   ],
   "source": [
    "padding_X = np.pad(input_X, ((padding, padding), (padding, padding)),\n",
    "                   'constant', constant_values=0)\n",
    "\n",
    "print(\"padding_X.shape: \", padding_X.shape)\n",
    "padding_X"
   ]
  },
  {
   "cell_type": "code",
   "execution_count": 4,
   "metadata": {},
   "outputs": [
    {
     "name": "stdout",
     "output_type": "stream",
     "text": [
      "Output: (4, 4)\n",
      "[[ 4.5  0.5 -1.5  0.5]\n",
      " [ 6.5  0.5 -2.5  0.5]\n",
      " [ 6.5 14.5 -0.5  0.5]\n",
      " [ 6.5 21.5  0.5  0.5]]\n"
     ]
    }
   ],
   "source": [
    "kernel_height, kernel_width = kernel.shape\n",
    "input_height, input_width = input_X.shape\n",
    "\n",
    "output_height = (input_height - kernel_height + 2 * padding) // stride + 1\n",
    "output_width = (input_width - kernel_width + 2 * padding) // stride + 1\n",
    "\n",
    "output_X = np.zeros((output_height, output_width))\n",
    "\n",
    "for y in range(output_height):\n",
    "    for x in range(output_width):\n",
    "        output_X[y][x] = (kernel * padding_X[y*stride : y*stride + kernel_height, x*stride : x*stride + kernel_width]).sum() + bias\n",
    "\n",
    "print('Output:', output_X.shape)\n",
    "print(output_X)"
   ]
  }
 ],
 "metadata": {
  "kernelspec": {
   "display_name": "study",
   "language": "python",
   "name": "python3"
  },
  "language_info": {
   "codemirror_mode": {
    "name": "ipython",
    "version": 3
   },
   "file_extension": ".py",
   "mimetype": "text/x-python",
   "name": "python",
   "nbconvert_exporter": "python",
   "pygments_lexer": "ipython3",
   "version": "3.8.17"
  },
  "orig_nbformat": 4
 },
 "nbformat": 4,
 "nbformat_minor": 2
}
