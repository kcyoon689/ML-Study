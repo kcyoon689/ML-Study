{
 "cells": [
  {
   "attachments": {},
   "cell_type": "markdown",
   "metadata": {},
   "source": [
    "#### Q2. 다음 훈련 집합을 3차원 공간에 플롯하고 선형 분리 가능한지 여부와 그 이유를 설명하시오.  \n",
    "\n",
    "\n",
    "\n",
    "\\begin{align}\n",
    "x_1 = \\begin{pmatrix} 0 \\\\ 0 \\\\ 0 \\end{pmatrix} \n",
    ",x_2 = \\begin{pmatrix} 0 \\\\ 1 \\\\ 1 \\end{pmatrix} \n",
    ",x_3 = \\begin{pmatrix} 1 \\\\ 1 \\\\ 1 \\end{pmatrix} \n",
    ",x_4 = \\begin{pmatrix} 1 \\\\ 0 \\\\ 1 \\end{pmatrix} \n",
    ",x_5 = \\begin{pmatrix} 0 \\\\ 0 \\\\ 1 \\end{pmatrix} \n",
    ",x_6 = \\begin{pmatrix} 0 \\\\ 1 \\\\ 0 \\end{pmatrix} \n",
    "\\end{align}\n",
    "\\\\\n",
    "\n",
    "\\begin{align}\n",
    "y_1 = 1, y_2 = 1, y_3 = 1, y_4 = -1, y_5 = -1, y_6 = -1 \n",
    "\\end{align}\n"
   ]
  },
  {
   "cell_type": "code",
   "execution_count": null,
   "metadata": {},
   "outputs": [],
   "source": [
    "import plotly.graph_objects as go\n",
    "\n",
    "# below is 1\n",
    "x1 = [0, 0, 1]\n",
    "y1 = [0, 1, 1]\n",
    "z1 = [0, 1, 1]\n",
    "\n",
    "# below  is -1\n",
    "x2 = [1, 0, 0]\n",
    "y2 = [0, 0, 1]\n",
    "z2 = [1, 1, 0]\n",
    "\n",
    "fig = go.Figure()\n",
    "\n",
    "fig.add_trace(go.Scatter3d(x=x1, y=y1, z=z1, mode='markers'))\n",
    "fig.add_trace(go.Scatter3d(x=x2, y=y2, z=z2, mode='markers'))\n",
    "\n",
    "fig.show()"
   ]
  },
  {
   "attachments": {},
   "cell_type": "markdown",
   "metadata": {},
   "source": [
    "#### Q3. theta가 아래와 같이 주어졌을 때 목적함수의 값을 계산하시오.\n",
    "\n",
    "\\begin{align}\n",
    "\\theta = (w, b)^T = (-0.1, 0.4)^T\n",
    "\\end{align}\n"
   ]
  },
  {
   "cell_type": "code",
   "execution_count": null,
   "metadata": {},
   "outputs": [],
   "source": [
    "# Notation\n",
    "    # y = actual value\n",
    "    # y_hat = predicted value\n",
    "    # n = number of samples\n",
    "\n",
    "# Error\n",
    "    # y_hat = w * x + b\n",
    "    # error = y_hat - y\n",
    "        #   = (w * x + b) - y\n",
    "\n",
    "# Cost Function\n",
    "    # MSE = 1/n * sum((y - y_hat)^2)\n",
    "\n",
    "\n",
    "X =[2.0, 4.0, 6.0, 8.0]\n",
    "Y =[3.0, 4.0, 5.0, 6.0]\n",
    "error_square = []\n",
    "\n",
    "w = -0.1\n",
    "b = 4.0\n",
    "\n",
    "for i in range(0, 4):\n",
    "    y_hat = w * X[i] + b\n",
    "    error = (y_hat - Y[i])\n",
    "    error_square.append(error**2)\n",
    "\n",
    "mse = sum(error_square)/len(error_square)\n",
    "\n",
    "print(mse)"
   ]
  }
 ],
 "metadata": {
  "language_info": {
   "name": "python"
  },
  "orig_nbformat": 4
 },
 "nbformat": 4,
 "nbformat_minor": 2
}
