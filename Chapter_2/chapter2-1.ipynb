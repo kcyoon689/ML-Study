{
 "cells": [
  {
   "attachments": {},
   "cell_type": "markdown",
   "metadata": {},
   "source": [
    "#### Q1.\n",
    "\n",
    "$A = \\begin{pmatrix} \n",
    "1 && -2 && 3 && 5 \\\\\n",
    "2 && 2 && -1 && 0 \\\\\n",
    "3 && 0 && 1 && 2 \\\\\n",
    "1 && 0 && 2 && 0 \\end{pmatrix}$\n",
    "\n",
    "2A, $A^T$, $A^{-1}$, A의 계수를 구하시오.\n"
   ]
  },
  {
   "cell_type": "code",
   "execution_count": 1,
   "metadata": {},
   "outputs": [],
   "source": [
    "import numpy as np\n",
    "from numpy.linalg import inv\n",
    "from numpy.linalg import matrix_rank\n",
    "from numpy.linalg import det\n",
    "from numpy.linalg import eig\n",
    "from numpy.linalg import svd\n",
    "\n",
    "a = [[1, -2, 3, 5],\n",
    "    [2, 2, -1, 0],\n",
    "    [3, 0, 1, 2],\n",
    "    [1, 0, 2, 0]]\n",
    "\n",
    "A = np.array(a)"
   ]
  },
  {
   "cell_type": "code",
   "execution_count": 7,
   "metadata": {},
   "outputs": [
    {
     "name": "stdout",
     "output_type": "stream",
     "text": [
      "=============== A matrix ==============\n",
      "[[ 1 -2  3  5]\n",
      " [ 2  2 -1  0]\n",
      " [ 3  0  1  2]\n",
      " [ 1  0  2  0]]\n",
      "==========================================\n",
      "=============== 2A matrix ================\n",
      "[[ 2 -4  6 10]\n",
      " [ 4  4 -2  0]\n",
      " [ 6  0  2  4]\n",
      " [ 2  0  4  0]]\n",
      "==========================================\n",
      "=============== A^T matrix ===============\n",
      "[[ 1  2  3  1]\n",
      " [-2  2  0  0]\n",
      " [ 3 -1  1  2]\n",
      " [ 5  0  2  0]]\n",
      "==========================================\n",
      "=============== A^-1 matrix ==============\n",
      "[[-0.23529412 -0.23529412  0.58823529 -0.05882353]\n",
      " [ 0.29411765  0.79411765 -0.73529412  0.32352941]\n",
      " [ 0.11764706  0.11764706 -0.29411765  0.52941176]\n",
      " [ 0.29411765  0.29411765 -0.23529412 -0.17647059]]\n",
      "==========================================\n",
      "==========================================\n",
      "A rank(계수) 4\n"
     ]
    }
   ],
   "source": [
    "print(\"=============== A matrix ==============\")\n",
    "print(A)\n",
    "print(\"==========================================\")\n",
    "print(\"=============== 2A matrix ================\")\n",
    "print(2*A)\n",
    "print(\"==========================================\")\n",
    "print(\"=============== A^T matrix ===============\")\n",
    "print(A.T)\n",
    "print(\"==========================================\")\n",
    "print(\"=============== A^-1 matrix ==============\")\n",
    "print(inv(A))\n",
    "print(\"==========================================\")\n",
    "print(\"==========================================\")\n",
    "print(\"A rank(계수)\", matrix_rank(A))"
   ]
  },
  {
   "cell_type": "code",
   "execution_count": 3,
   "metadata": {},
   "outputs": [
    {
     "name": "stdout",
     "output_type": "stream",
     "text": [
      "=============== det(A)(행렬식) ===============\n",
      "34.00000000000001\n"
     ]
    }
   ],
   "source": [
    "print(\"=============== det(A)(행렬식) ===============\")\n",
    "print(det(A))"
   ]
  },
  {
   "cell_type": "code",
   "execution_count": 4,
   "metadata": {},
   "outputs": [
    {
     "name": "stdout",
     "output_type": "stream",
     "text": [
      "=============== A eigen decomposition(고유값 분해) ===============\n",
      "w.shape: (4,), v.shape: (4, 4)\n",
      "w(eigenvalues): \n",
      "[ 5.52552524+0.j         -1.52204833+1.31733645j -1.52204833-1.31733645j\n",
      "  1.51857142+0.j        ]\n",
      "v(The normalized  eigenvetors): \n",
      "[[-0.68465996+0.j          0.619935  +0.j          0.619935  -0.j\n",
      "   0.11199539+0.j        ]\n",
      " [-0.21666012+0.j         -0.34875983-0.24694874j -0.34875983+0.24694874j\n",
      "  -0.93998928+0.j        ]\n",
      " [-0.60547918+0.j         -0.31379356-0.41033136j -0.31379356+0.41033136j\n",
      "  -0.22854692+0.j        ]\n",
      " [-0.34306572+0.j         -0.263929  +0.31075191j -0.263929  -0.31075191j\n",
      "  -0.22725204+0.j        ]]\n",
      "the column v[:,i] is the eigenvector corresponding to the eigenvalue w[i].\n"
     ]
    }
   ],
   "source": [
    "print(\"=============== A eigen decomposition(고유값 분해) ===============\")\n",
    "w, v = eig(A)\n",
    "\n",
    "print(\"w.shape: {}, v.shape: {}\".format(w.shape, v.shape))\n",
    "print(\"w(eigenvalues): \\n{}\".format(w))\n",
    "print(\"v(The normalized  eigenvetors): \\n{}\".format(v))\n",
    "print(\"the column v[:,i] is the eigenvector corresponding to the eigenvalue w[i].\")"
   ]
  },
  {
   "cell_type": "code",
   "execution_count": 5,
   "metadata": {},
   "outputs": [
    {
     "name": "stdout",
     "output_type": "stream",
     "text": [
      "=============== A svd(singular value decomposition(특이값 분해) ===============\n",
      "U.shape: (4, 4)\n",
      "V.shape: (4, 4)\n",
      "s.shape: (4,)\n",
      "U matrix: \n",
      "[[-0.8819521   0.25706354 -0.24178316 -0.31244156]\n",
      " [ 0.05743106 -0.76320224 -0.26028922 -0.58862003]\n",
      " [-0.42722253 -0.58124436  0.04756433  0.69092224]\n",
      " [-0.19063859 -0.11660051  0.93355667 -0.28023773]]\n",
      "diagonal matrix: \n",
      "[6.97059301 3.8068416  1.85521105 0.69063894]\n",
      "V matrix: \n",
      "[[-0.32126336  0.26952747 -0.50380033 -0.75520197]\n",
      " [-0.8221184  -0.53601693  0.18911937  0.03226532]\n",
      " [ 0.16919264 -0.01995035  0.78137601 -0.60035603]\n",
      " [ 0.43850318 -0.7997767  -0.31602313 -0.2611543 ]]\n"
     ]
    }
   ],
   "source": [
    "print(\"=============== A svd(singular value decomposition(특이값 분해) ===============\")\n",
    "U, s , Vh = svd(A)\n",
    "print(\"U.shape: {}\\nV.shape: {}\\ns.shape: {}\".format(U.shape, Vh.shape, s.shape))\n",
    "print(\"U matrix: \\n{}\".format(U))\n",
    "print(\"diagonal matrix: \\n{}\".format(s))\n",
    "print(\"V matrix: \\n{}\".format(Vh))"
   ]
  },
  {
   "attachments": {},
   "cell_type": "markdown",
   "metadata": {},
   "source": [
    "#### Q2.\n",
    "\n",
    "$A = \\begin{pmatrix}\n",
    "1 && -2 \\\\\n",
    "2 && 2 \\end{pmatrix}$\n",
    "\n",
    "$A^{1/2}$, $A^{-1/2}$를 구하시오."
   ]
  },
  {
   "cell_type": "code",
   "execution_count": null,
   "metadata": {},
   "outputs": [],
   "source": [
    "import numpy as np\n",
    "import numpy.linalg as lin\n",
    "from scipy import linalg\n",
    "\n",
    "# scipy의 linalg.sqrtm(행렬)을 사용하여 제곱근 행렬을 계산한다.\n",
    "pro_A = np.array([[1, -2], [2, 2]])\n",
    "AOneOverTwo = linalg.sqrtm(pro_A)\n",
    "print(f\"A^1/2 = \\n{AOneOverTwo}\")\n",
    "print(\"++++++++++++++++++++++++++++++++++++\")\n",
    "print(np.sqrt(pro_A))\n",
    "# print(f\"A^-1/2 = \\n{lin.inv(AOneOverTwo)}\")"
   ]
  },
  {
   "attachments": {},
   "cell_type": "markdown",
   "metadata": {},
   "source": [
    "#### Q4.\n",
    "\n",
    "$f_1(x) = -2x_1x_1 -1.5x_1x_2+3.1x_1x_4+2x_2x_1+2x_2x_x-6x_2x_4-2.1x_3x_1+3x_3x_3+2x_4x_1+3x_4x_2-2x_4x_4+1.2x_1+3.3x_2-4x_4+4.2$\n",
    "\n",
    "$f_2(x) = 3x_1x_1+3.5x_1x_3-3.1x_1x_4+2.1x_2x_1-2x_2x_2-2x_2x_4-2.5x_3x_1+3x_3x_3+3x_4x_1-6x_4x_2+2x_4x_3+2.2x_1+2.3x_2+3.3x_3-2x_4+5.1$"
   ]
  },
  {
   "cell_type": "code",
   "execution_count": 1,
   "metadata": {},
   "outputs": [
    {
     "name": "stdout",
     "output_type": "stream",
     "text": [
      "func_A\n",
      "[[ 1.  -1.5  3.5  0. ]\n",
      " [ 4.1  0.   0.  -8. ]\n",
      " [-4.6  0.   6.   0. ]\n",
      " [ 5.  -3.   2.  -2. ]]\n",
      "func_bT\n",
      "[ 3.4  5.6  3.3 -6. ]\n",
      "func_c\n",
      "9.3\n"
     ]
    }
   ],
   "source": [
    "import numpy as np\n",
    "func1_A = np.array([[-2, -1.5, 0, 3.1], \n",
    "                    [2, 2, 0, -6], \n",
    "                    [-2.1, 0, 3, 0], \n",
    "                    [2, 3, 0, -2]])\n",
    "func1_bT = np.array([1.2, 3.3, 0, -4])\n",
    "func1_c = 4.2\n",
    "\n",
    "func2_A = np.array([[3, 0, 3.5, -3.1], \n",
    "                    [2.1, -2, 0, -2], \n",
    "                    [-2.5, 0, 3, 0], \n",
    "                    [3, -6, 2, 0]])\n",
    "func2_bT = np.array([2.2, 2.3, 3.3, -2])\n",
    "func2_c = 5.1\n",
    "\n",
    "func_A_Sum = func1_A + func2_A\n",
    "func_bT_Sum = func1_bT + func2_bT\n",
    "func_c_Sum = func1_c + func2_c\n",
    "\n",
    "print(\"func_A\")\n",
    "print(func_A_Sum)\n",
    "\n",
    "print(\"func_bT\")\n",
    "print(func_bT_Sum)\n",
    "\n",
    "print(\"func_c\")\n",
    "print(func_c_Sum)\n"
   ]
  },
  {
   "attachments": {},
   "cell_type": "markdown",
   "metadata": {},
   "source": [
    "#### Q5.\n",
    "\n",
    "놈을 계산하시오.  \n",
    "(1) $x = (3, -4, -1.2, 0 2.3)^T$\n",
    "\n",
    "(2)$\\begin{pmatrix}\n",
    "2 && 1 \\\\\n",
    "1 && 5 \\\\\n",
    "4 && 1 \\end{pmatrix}$ 의 Frobenius norm"
   ]
  },
  {
   "cell_type": "code",
   "execution_count": 2,
   "metadata": {},
   "outputs": [
    {
     "name": "stdout",
     "output_type": "stream",
     "text": [
      "============== 1-norm =============\n",
      "10.5\n",
      "============== 2-norm =============\n",
      "5.632938842203065\n",
      "============== 3-norm =============\n",
      "4.716120891176797\n",
      "============= Max-norm ============\n",
      "4.0\n",
      "============== Frobenius norm =============\n",
      "6.928203230275509\n"
     ]
    }
   ],
   "source": [
    "import numpy as np\n",
    "from numpy.linalg import norm\n",
    "\n",
    "mat_x = np.array([3, -4, -1.2, 0, 2.3])\n",
    "\n",
    "mat_x_transposed = mat_x.T\n",
    "\n",
    "print(\"============== 1-norm =============\")\n",
    "print(norm(mat_x_transposed, ord=1))\n",
    "print(\"============== 2-norm =============\")\n",
    "print(norm(mat_x_transposed, ord=2))\n",
    "print(\"============== 3-norm =============\")\n",
    "print(norm(mat_x_transposed, ord=3))\n",
    "print(\"============= Max-norm ============\")\n",
    "print(norm(mat_x_transposed, ord=np.inf))\n",
    "\n",
    "import numpy as np\n",
    "from numpy.linalg import norm\n",
    "\n",
    "mat_x =np.array([[2, 1],\n",
    "                 [1, 5],\n",
    "                 [4, 1]])\n",
    "\n",
    "print(\"============== Frobenius norm =============\")\n",
    "print(norm(mat_x, ord='fro'))"
   ]
  },
  {
   "attachments": {},
   "cell_type": "markdown",
   "metadata": {},
   "source": [
    "#### Q6.\n",
    "##### [예제 2-3]에서 임계값 T가 T = 2.0으로 바뀌었다고 가정하고 [그림 2-4(b)]를 새로 그리시오. T가 변함에 따라 어떤 변화가 나타나는지 설명하시오.\n"
   ]
  },
  {
   "cell_type": "code",
   "execution_count": 2,
   "metadata": {},
   "outputs": [
    {
     "name": "stdout",
     "output_type": "stream",
     "text": [
      "frist distance from orignal point: 0.9996469776876233\n",
      "frist distance from orignal point: 1.168412475673972\n",
      "frist distance from orignal point: 1.752618713510958\n"
     ]
    },
    {
     "data": {
      "application/vnd.plotly.v1+json": {
       "config": {
        "plotlyServerURL": "https://plot.ly"
       },
       "data": [
        {
         "colorscale": [
          [
           0,
           "rgb(255,247,236)"
          ],
          [
           0.125,
           "rgb(254,232,200)"
          ],
          [
           0.25,
           "rgb(253,212,158)"
          ],
          [
           0.375,
           "rgb(253,187,132)"
          ],
          [
           0.5,
           "rgb(252,141,89)"
          ],
          [
           0.625,
           "rgb(239,101,72)"
          ],
          [
           0.75,
           "rgb(215,48,31)"
          ],
          [
           0.875,
           "rgb(179,0,0)"
          ],
          [
           1,
           "rgb(127,0,0)"
          ]
         ],
         "scene": "scene",
         "showscale": false,
         "type": "surface",
         "x": [
          [
           0,
           1
          ],
          [
           0,
           1
          ]
         ],
         "y": [
          [
           0,
           0
          ],
          [
           1,
           1
          ]
         ],
         "z": [
          [
           -0.9996469776876233,
           -2.1996469776876233
          ],
          [
           -1.6996469776876233,
           -2.899646977687623
          ]
         ]
        },
        {
         "mode": "markers",
         "scene": "scene",
         "type": "scatter3d",
         "x": [
          0
         ],
         "y": [
          0
         ],
         "z": [
          0
         ]
        },
        {
         "colorscale": [
          [
           0,
           "rgb(255,247,236)"
          ],
          [
           0.125,
           "rgb(254,232,200)"
          ],
          [
           0.25,
           "rgb(253,212,158)"
          ],
          [
           0.375,
           "rgb(253,187,132)"
          ],
          [
           0.5,
           "rgb(252,141,89)"
          ],
          [
           0.625,
           "rgb(239,101,72)"
          ],
          [
           0.75,
           "rgb(215,48,31)"
          ],
          [
           0.875,
           "rgb(179,0,0)"
          ],
          [
           1,
           "rgb(127,0,0)"
          ]
         ],
         "scene": "scene4",
         "showscale": false,
         "type": "surface",
         "x": [
          [
           0,
           1
          ],
          [
           0,
           1
          ]
         ],
         "y": [
          [
           0,
           0
          ],
          [
           1,
           1
          ]
         ],
         "z": [
          [
           -0.9996469776876233,
           -2.1996469776876233
          ],
          [
           -1.6996469776876233,
           -2.899646977687623
          ]
         ]
        },
        {
         "colorscale": [
          [
           0,
           "rgb(255,255,229)"
          ],
          [
           0.125,
           "rgb(247,252,185)"
          ],
          [
           0.25,
           "rgb(217,240,163)"
          ],
          [
           0.375,
           "rgb(173,221,142)"
          ],
          [
           0.5,
           "rgb(120,198,121)"
          ],
          [
           0.625,
           "rgb(65,171,93)"
          ],
          [
           0.75,
           "rgb(35,132,67)"
          ],
          [
           0.875,
           "rgb(0,104,55)"
          ],
          [
           1,
           "rgb(0,69,41)"
          ]
         ],
         "scene": "scene3",
         "showscale": false,
         "type": "surface",
         "x": [
          [
           0,
           1
          ],
          [
           0,
           1
          ]
         ],
         "y": [
          [
           0,
           0
          ],
          [
           1,
           1
          ]
         ],
         "z": [
          [
           -1.168412475673972,
           -2.368412475673972
          ],
          [
           -1.868412475673972,
           -3.0684124756739717
          ]
         ]
        },
        {
         "mode": "markers",
         "scene": "scene3",
         "type": "scatter3d",
         "x": [
          0
         ],
         "y": [
          0
         ],
         "z": [
          0
         ]
        },
        {
         "colorscale": [
          [
           0,
           "rgb(255,255,229)"
          ],
          [
           0.125,
           "rgb(247,252,185)"
          ],
          [
           0.25,
           "rgb(217,240,163)"
          ],
          [
           0.375,
           "rgb(173,221,142)"
          ],
          [
           0.5,
           "rgb(120,198,121)"
          ],
          [
           0.625,
           "rgb(65,171,93)"
          ],
          [
           0.75,
           "rgb(35,132,67)"
          ],
          [
           0.875,
           "rgb(0,104,55)"
          ],
          [
           1,
           "rgb(0,69,41)"
          ]
         ],
         "scene": "scene4",
         "showscale": false,
         "type": "surface",
         "x": [
          [
           0,
           1
          ],
          [
           0,
           1
          ]
         ],
         "y": [
          [
           0,
           0
          ],
          [
           1,
           1
          ]
         ],
         "z": [
          [
           -1.168412475673972,
           -2.368412475673972
          ],
          [
           -1.868412475673972,
           -3.0684124756739717
          ]
         ]
        },
        {
         "colorscale": [
          [
           0,
           "#e2d9e2"
          ],
          [
           0.1111111111111111,
           "#9ebbc9"
          ],
          [
           0.2222222222222222,
           "#6785be"
          ],
          [
           0.3333333333333333,
           "#5e43a5"
          ],
          [
           0.4444444444444444,
           "#421257"
          ],
          [
           0.5555555555555556,
           "#471340"
          ],
          [
           0.6666666666666666,
           "#8e2c50"
          ],
          [
           0.7777777777777778,
           "#ba6657"
          ],
          [
           0.8888888888888888,
           "#ceac94"
          ],
          [
           1,
           "#e2d9e2"
          ]
         ],
         "scene": "scene2",
         "showscale": false,
         "type": "surface",
         "x": [
          [
           0,
           1
          ],
          [
           0,
           1
          ]
         ],
         "y": [
          [
           0,
           0
          ],
          [
           1,
           1
          ]
         ],
         "z": [
          [
           -1.752618713510958,
           -2.952618713510958
          ],
          [
           -2.452618713510958,
           -3.6526187135109582
          ]
         ]
        },
        {
         "mode": "markers",
         "scene": "scene2",
         "type": "scatter3d",
         "x": [
          0
         ],
         "y": [
          0
         ],
         "z": [
          0
         ]
        },
        {
         "colorscale": [
          [
           0,
           "#e2d9e2"
          ],
          [
           0.1111111111111111,
           "#9ebbc9"
          ],
          [
           0.2222222222222222,
           "#6785be"
          ],
          [
           0.3333333333333333,
           "#5e43a5"
          ],
          [
           0.4444444444444444,
           "#421257"
          ],
          [
           0.5555555555555556,
           "#471340"
          ],
          [
           0.6666666666666666,
           "#8e2c50"
          ],
          [
           0.7777777777777778,
           "#ba6657"
          ],
          [
           0.8888888888888888,
           "#ceac94"
          ],
          [
           1,
           "#e2d9e2"
          ]
         ],
         "scene": "scene4",
         "showscale": false,
         "type": "surface",
         "x": [
          [
           0,
           1
          ],
          [
           0,
           1
          ]
         ],
         "y": [
          [
           0,
           0
          ],
          [
           1,
           1
          ]
         ],
         "z": [
          [
           -1.752618713510958,
           -2.952618713510958
          ],
          [
           -2.452618713510958,
           -3.6526187135109582
          ]
         ]
        },
        {
         "mode": "markers",
         "scene": "scene4",
         "type": "scatter3d",
         "x": [
          0
         ],
         "y": [
          0
         ],
         "z": [
          0
         ]
        }
       ],
       "layout": {
        "height": 800,
        "scene": {
         "domain": {
          "x": [
           0,
           0.45
          ],
          "y": [
           0.575,
           1
          ]
         }
        },
        "scene2": {
         "domain": {
          "x": [
           0.55,
           1
          ],
          "y": [
           0.575,
           1
          ]
         }
        },
        "scene3": {
         "domain": {
          "x": [
           0,
           0.45
          ],
          "y": [
           0,
           0.425
          ]
         }
        },
        "scene4": {
         "domain": {
          "x": [
           0.55,
           1
          ],
          "y": [
           0,
           0.425
          ]
         }
        },
        "template": {
         "data": {
          "bar": [
           {
            "error_x": {
             "color": "#2a3f5f"
            },
            "error_y": {
             "color": "#2a3f5f"
            },
            "marker": {
             "line": {
              "color": "#E5ECF6",
              "width": 0.5
             },
             "pattern": {
              "fillmode": "overlay",
              "size": 10,
              "solidity": 0.2
             }
            },
            "type": "bar"
           }
          ],
          "barpolar": [
           {
            "marker": {
             "line": {
              "color": "#E5ECF6",
              "width": 0.5
             },
             "pattern": {
              "fillmode": "overlay",
              "size": 10,
              "solidity": 0.2
             }
            },
            "type": "barpolar"
           }
          ],
          "carpet": [
           {
            "aaxis": {
             "endlinecolor": "#2a3f5f",
             "gridcolor": "white",
             "linecolor": "white",
             "minorgridcolor": "white",
             "startlinecolor": "#2a3f5f"
            },
            "baxis": {
             "endlinecolor": "#2a3f5f",
             "gridcolor": "white",
             "linecolor": "white",
             "minorgridcolor": "white",
             "startlinecolor": "#2a3f5f"
            },
            "type": "carpet"
           }
          ],
          "choropleth": [
           {
            "colorbar": {
             "outlinewidth": 0,
             "ticks": ""
            },
            "type": "choropleth"
           }
          ],
          "contour": [
           {
            "colorbar": {
             "outlinewidth": 0,
             "ticks": ""
            },
            "colorscale": [
             [
              0,
              "#0d0887"
             ],
             [
              0.1111111111111111,
              "#46039f"
             ],
             [
              0.2222222222222222,
              "#7201a8"
             ],
             [
              0.3333333333333333,
              "#9c179e"
             ],
             [
              0.4444444444444444,
              "#bd3786"
             ],
             [
              0.5555555555555556,
              "#d8576b"
             ],
             [
              0.6666666666666666,
              "#ed7953"
             ],
             [
              0.7777777777777778,
              "#fb9f3a"
             ],
             [
              0.8888888888888888,
              "#fdca26"
             ],
             [
              1,
              "#f0f921"
             ]
            ],
            "type": "contour"
           }
          ],
          "contourcarpet": [
           {
            "colorbar": {
             "outlinewidth": 0,
             "ticks": ""
            },
            "type": "contourcarpet"
           }
          ],
          "heatmap": [
           {
            "colorbar": {
             "outlinewidth": 0,
             "ticks": ""
            },
            "colorscale": [
             [
              0,
              "#0d0887"
             ],
             [
              0.1111111111111111,
              "#46039f"
             ],
             [
              0.2222222222222222,
              "#7201a8"
             ],
             [
              0.3333333333333333,
              "#9c179e"
             ],
             [
              0.4444444444444444,
              "#bd3786"
             ],
             [
              0.5555555555555556,
              "#d8576b"
             ],
             [
              0.6666666666666666,
              "#ed7953"
             ],
             [
              0.7777777777777778,
              "#fb9f3a"
             ],
             [
              0.8888888888888888,
              "#fdca26"
             ],
             [
              1,
              "#f0f921"
             ]
            ],
            "type": "heatmap"
           }
          ],
          "heatmapgl": [
           {
            "colorbar": {
             "outlinewidth": 0,
             "ticks": ""
            },
            "colorscale": [
             [
              0,
              "#0d0887"
             ],
             [
              0.1111111111111111,
              "#46039f"
             ],
             [
              0.2222222222222222,
              "#7201a8"
             ],
             [
              0.3333333333333333,
              "#9c179e"
             ],
             [
              0.4444444444444444,
              "#bd3786"
             ],
             [
              0.5555555555555556,
              "#d8576b"
             ],
             [
              0.6666666666666666,
              "#ed7953"
             ],
             [
              0.7777777777777778,
              "#fb9f3a"
             ],
             [
              0.8888888888888888,
              "#fdca26"
             ],
             [
              1,
              "#f0f921"
             ]
            ],
            "type": "heatmapgl"
           }
          ],
          "histogram": [
           {
            "marker": {
             "pattern": {
              "fillmode": "overlay",
              "size": 10,
              "solidity": 0.2
             }
            },
            "type": "histogram"
           }
          ],
          "histogram2d": [
           {
            "colorbar": {
             "outlinewidth": 0,
             "ticks": ""
            },
            "colorscale": [
             [
              0,
              "#0d0887"
             ],
             [
              0.1111111111111111,
              "#46039f"
             ],
             [
              0.2222222222222222,
              "#7201a8"
             ],
             [
              0.3333333333333333,
              "#9c179e"
             ],
             [
              0.4444444444444444,
              "#bd3786"
             ],
             [
              0.5555555555555556,
              "#d8576b"
             ],
             [
              0.6666666666666666,
              "#ed7953"
             ],
             [
              0.7777777777777778,
              "#fb9f3a"
             ],
             [
              0.8888888888888888,
              "#fdca26"
             ],
             [
              1,
              "#f0f921"
             ]
            ],
            "type": "histogram2d"
           }
          ],
          "histogram2dcontour": [
           {
            "colorbar": {
             "outlinewidth": 0,
             "ticks": ""
            },
            "colorscale": [
             [
              0,
              "#0d0887"
             ],
             [
              0.1111111111111111,
              "#46039f"
             ],
             [
              0.2222222222222222,
              "#7201a8"
             ],
             [
              0.3333333333333333,
              "#9c179e"
             ],
             [
              0.4444444444444444,
              "#bd3786"
             ],
             [
              0.5555555555555556,
              "#d8576b"
             ],
             [
              0.6666666666666666,
              "#ed7953"
             ],
             [
              0.7777777777777778,
              "#fb9f3a"
             ],
             [
              0.8888888888888888,
              "#fdca26"
             ],
             [
              1,
              "#f0f921"
             ]
            ],
            "type": "histogram2dcontour"
           }
          ],
          "mesh3d": [
           {
            "colorbar": {
             "outlinewidth": 0,
             "ticks": ""
            },
            "type": "mesh3d"
           }
          ],
          "parcoords": [
           {
            "line": {
             "colorbar": {
              "outlinewidth": 0,
              "ticks": ""
             }
            },
            "type": "parcoords"
           }
          ],
          "pie": [
           {
            "automargin": true,
            "type": "pie"
           }
          ],
          "scatter": [
           {
            "fillpattern": {
             "fillmode": "overlay",
             "size": 10,
             "solidity": 0.2
            },
            "type": "scatter"
           }
          ],
          "scatter3d": [
           {
            "line": {
             "colorbar": {
              "outlinewidth": 0,
              "ticks": ""
             }
            },
            "marker": {
             "colorbar": {
              "outlinewidth": 0,
              "ticks": ""
             }
            },
            "type": "scatter3d"
           }
          ],
          "scattercarpet": [
           {
            "marker": {
             "colorbar": {
              "outlinewidth": 0,
              "ticks": ""
             }
            },
            "type": "scattercarpet"
           }
          ],
          "scattergeo": [
           {
            "marker": {
             "colorbar": {
              "outlinewidth": 0,
              "ticks": ""
             }
            },
            "type": "scattergeo"
           }
          ],
          "scattergl": [
           {
            "marker": {
             "colorbar": {
              "outlinewidth": 0,
              "ticks": ""
             }
            },
            "type": "scattergl"
           }
          ],
          "scattermapbox": [
           {
            "marker": {
             "colorbar": {
              "outlinewidth": 0,
              "ticks": ""
             }
            },
            "type": "scattermapbox"
           }
          ],
          "scatterpolar": [
           {
            "marker": {
             "colorbar": {
              "outlinewidth": 0,
              "ticks": ""
             }
            },
            "type": "scatterpolar"
           }
          ],
          "scatterpolargl": [
           {
            "marker": {
             "colorbar": {
              "outlinewidth": 0,
              "ticks": ""
             }
            },
            "type": "scatterpolargl"
           }
          ],
          "scatterternary": [
           {
            "marker": {
             "colorbar": {
              "outlinewidth": 0,
              "ticks": ""
             }
            },
            "type": "scatterternary"
           }
          ],
          "surface": [
           {
            "colorbar": {
             "outlinewidth": 0,
             "ticks": ""
            },
            "colorscale": [
             [
              0,
              "#0d0887"
             ],
             [
              0.1111111111111111,
              "#46039f"
             ],
             [
              0.2222222222222222,
              "#7201a8"
             ],
             [
              0.3333333333333333,
              "#9c179e"
             ],
             [
              0.4444444444444444,
              "#bd3786"
             ],
             [
              0.5555555555555556,
              "#d8576b"
             ],
             [
              0.6666666666666666,
              "#ed7953"
             ],
             [
              0.7777777777777778,
              "#fb9f3a"
             ],
             [
              0.8888888888888888,
              "#fdca26"
             ],
             [
              1,
              "#f0f921"
             ]
            ],
            "type": "surface"
           }
          ],
          "table": [
           {
            "cells": {
             "fill": {
              "color": "#EBF0F8"
             },
             "line": {
              "color": "white"
             }
            },
            "header": {
             "fill": {
              "color": "#C8D4E3"
             },
             "line": {
              "color": "white"
             }
            },
            "type": "table"
           }
          ]
         },
         "layout": {
          "annotationdefaults": {
           "arrowcolor": "#2a3f5f",
           "arrowhead": 0,
           "arrowwidth": 1
          },
          "autotypenumbers": "strict",
          "coloraxis": {
           "colorbar": {
            "outlinewidth": 0,
            "ticks": ""
           }
          },
          "colorscale": {
           "diverging": [
            [
             0,
             "#8e0152"
            ],
            [
             0.1,
             "#c51b7d"
            ],
            [
             0.2,
             "#de77ae"
            ],
            [
             0.3,
             "#f1b6da"
            ],
            [
             0.4,
             "#fde0ef"
            ],
            [
             0.5,
             "#f7f7f7"
            ],
            [
             0.6,
             "#e6f5d0"
            ],
            [
             0.7,
             "#b8e186"
            ],
            [
             0.8,
             "#7fbc41"
            ],
            [
             0.9,
             "#4d9221"
            ],
            [
             1,
             "#276419"
            ]
           ],
           "sequential": [
            [
             0,
             "#0d0887"
            ],
            [
             0.1111111111111111,
             "#46039f"
            ],
            [
             0.2222222222222222,
             "#7201a8"
            ],
            [
             0.3333333333333333,
             "#9c179e"
            ],
            [
             0.4444444444444444,
             "#bd3786"
            ],
            [
             0.5555555555555556,
             "#d8576b"
            ],
            [
             0.6666666666666666,
             "#ed7953"
            ],
            [
             0.7777777777777778,
             "#fb9f3a"
            ],
            [
             0.8888888888888888,
             "#fdca26"
            ],
            [
             1,
             "#f0f921"
            ]
           ],
           "sequentialminus": [
            [
             0,
             "#0d0887"
            ],
            [
             0.1111111111111111,
             "#46039f"
            ],
            [
             0.2222222222222222,
             "#7201a8"
            ],
            [
             0.3333333333333333,
             "#9c179e"
            ],
            [
             0.4444444444444444,
             "#bd3786"
            ],
            [
             0.5555555555555556,
             "#d8576b"
            ],
            [
             0.6666666666666666,
             "#ed7953"
            ],
            [
             0.7777777777777778,
             "#fb9f3a"
            ],
            [
             0.8888888888888888,
             "#fdca26"
            ],
            [
             1,
             "#f0f921"
            ]
           ]
          },
          "colorway": [
           "#636efa",
           "#EF553B",
           "#00cc96",
           "#ab63fa",
           "#FFA15A",
           "#19d3f3",
           "#FF6692",
           "#B6E880",
           "#FF97FF",
           "#FECB52"
          ],
          "font": {
           "color": "#2a3f5f"
          },
          "geo": {
           "bgcolor": "white",
           "lakecolor": "white",
           "landcolor": "#E5ECF6",
           "showlakes": true,
           "showland": true,
           "subunitcolor": "white"
          },
          "hoverlabel": {
           "align": "left"
          },
          "hovermode": "closest",
          "mapbox": {
           "style": "light"
          },
          "paper_bgcolor": "white",
          "plot_bgcolor": "#E5ECF6",
          "polar": {
           "angularaxis": {
            "gridcolor": "white",
            "linecolor": "white",
            "ticks": ""
           },
           "bgcolor": "#E5ECF6",
           "radialaxis": {
            "gridcolor": "white",
            "linecolor": "white",
            "ticks": ""
           }
          },
          "scene": {
           "xaxis": {
            "backgroundcolor": "#E5ECF6",
            "gridcolor": "white",
            "gridwidth": 2,
            "linecolor": "white",
            "showbackground": true,
            "ticks": "",
            "zerolinecolor": "white"
           },
           "yaxis": {
            "backgroundcolor": "#E5ECF6",
            "gridcolor": "white",
            "gridwidth": 2,
            "linecolor": "white",
            "showbackground": true,
            "ticks": "",
            "zerolinecolor": "white"
           },
           "zaxis": {
            "backgroundcolor": "#E5ECF6",
            "gridcolor": "white",
            "gridwidth": 2,
            "linecolor": "white",
            "showbackground": true,
            "ticks": "",
            "zerolinecolor": "white"
           }
          },
          "shapedefaults": {
           "line": {
            "color": "#2a3f5f"
           }
          },
          "ternary": {
           "aaxis": {
            "gridcolor": "white",
            "linecolor": "white",
            "ticks": ""
           },
           "baxis": {
            "gridcolor": "white",
            "linecolor": "white",
            "ticks": ""
           },
           "bgcolor": "#E5ECF6",
           "caxis": {
            "gridcolor": "white",
            "linecolor": "white",
            "ticks": ""
           }
          },
          "title": {
           "x": 0.05
          },
          "xaxis": {
           "automargin": true,
           "gridcolor": "white",
           "linecolor": "white",
           "ticks": "",
           "title": {
            "standoff": 15
           },
           "zerolinecolor": "white",
           "zerolinewidth": 2
          },
          "yaxis": {
           "automargin": true,
           "gridcolor": "white",
           "linecolor": "white",
           "ticks": "",
           "title": {
            "standoff": 15
           },
           "zerolinecolor": "white",
           "zerolinewidth": 2
          }
         }
        },
        "title": {
         "text": "3D subplots with different colorscales"
        },
        "width": 800
       }
      }
     },
     "metadata": {},
     "output_type": "display_data"
    }
   ],
   "source": [
    "import numpy as np\n",
    "from numpy.linalg import norm\n",
    "import plotly.graph_objects as go\n",
    "from plotly.subplots import make_subplots\n",
    "\n",
    "\n",
    "row = [1, 2, 1, 2]\n",
    "col = [1, 1, 2, 2]\n",
    "color = ['orRd', 'YlGn', 'twilight']\n",
    "\n",
    "# normal vector\n",
    "# arbitary point\n",
    "w = np.array([1.2, 0.7, 1.0]) # direction x2\n",
    "T = 2.0\n",
    "\n",
    "d = []\n",
    "z = []\n",
    "\n",
    "d.append(np.absolute(0.584*norm(w, ord=2)))\n",
    "d.append(2.0/norm(w, ord=2))\n",
    "d.append(3.0/norm(w, ord=2))\n",
    "\n",
    "# Create x, y\n",
    "x, y = np.meshgrid(range(2), range(2))\n",
    "\n",
    "for i in range(3):\n",
    "    print(\"frist distance from orignal point:\", d[i])\n",
    "    # Caculate corresponding z\n",
    "    z.append((-w[0] * x - w[1] * y - d[i]) * 1. /w[2])\n",
    "\n",
    "\n",
    "# plot the surface\n",
    "fig = make_subplots(\n",
    "    rows=2, cols=2,\n",
    "    specs=[[{'type': 'surface'}, {'type': 'surface'}],\n",
    "           [{'type': 'surface'}, {'type': 'surface'}]])\n",
    "\n",
    "fig.update_layout(\n",
    "    title_text='3D subplots with different colorscales',\n",
    "    height=800,\n",
    "    width=800\n",
    ")\n",
    "\n",
    "for i in range(3):\n",
    "    fig.add_trace(\n",
    "        go.Surface(x=x, y=y, z=z[i], colorscale=color[i], showscale=False),\n",
    "        row=row[i], col=col[i])\n",
    "    fig.add_trace(\n",
    "        go.Scatter3d(x=[0], y=[0], z=[0], mode='markers'),\n",
    "        row=row[i], col=col[i])\n",
    "    \n",
    "    fig.add_trace(\n",
    "        go.Surface(x=x, y=y, z=z[i], colorscale=color[i], showscale=False),\n",
    "        row=2, col=2)\n",
    "\n",
    "fig.add_trace(\n",
    "    go.Scatter3d(x=[0], y=[0], z=[0], mode='markers'),\n",
    "    row=2, col=2)\n",
    "\n",
    "fig.show()"
   ]
  },
  {
   "attachments": {},
   "cell_type": "markdown",
   "metadata": {},
   "source": [
    "#### [Solution]\n",
    "plane_y = $1.2x_1 + 0.7x_2 + 1.0x_3$\\\n",
    "$ = 2.0 = T$\n",
    "\n",
    "$1.2x_1 + 0.7x_2 + 1.0x_3 = 2.0$ \\\n",
    "$1.2x_1 + 0.7x_2 + 1.0x_3 - 2.0 = 0 $\n",
    "\n",
    "**T 가 커짐에 따라 결정 평편은 점점 원점으로 부터 멀어지기 때문에 평면은 아래로 내려가는 모양일 것이고, 임계값이 증가하면 증가할 수록 평면의 y절편은 증가할 것이다.**\n",
    "\n",
    "**그림에서는 원점으로 부터 아래의 수식 만큼 떨어져 있기 때문에 원점으로 부터 T 가 증가하면 평면은 멀어지고 작아지면 가까워 진다.**\n",
    "$T/||W|_2$"
   ]
  },
  {
   "attachments": {},
   "cell_type": "markdown",
   "metadata": {},
   "source": [
    "#### Q7.\n",
    "##### 아래 그림은 x1과 x3 축이 이루는 평면이 결정평면인 상황이다. 이에 해당하는 퍼셉트론을 [그림 2-4(a)]처럼 제시하시오."
   ]
  },
  {
   "cell_type": "code",
   "execution_count": 70,
   "metadata": {},
   "outputs": [
    {
     "name": "stdout",
     "output_type": "stream",
     "text": [
      "======== perceptron of plain above ================\n",
      "          0\n",
      "x1 ---O-----\\\n",
      "          1  \\\n",
      "x2 ---O--------O---- output\n",
      "          0  / T=1.0\n",
      "x3 ---O-----/\n"
     ]
    },
    {
     "data": {
      "application/vnd.plotly.v1+json": {
       "config": {
        "plotlyServerURL": "https://plot.ly"
       },
       "data": [
        {
         "mode": "markers",
         "type": "scatter3d",
         "x": [
          0
         ],
         "y": [
          0
         ],
         "z": [
          0
         ]
        },
        {
         "opacity": 0.6,
         "showscale": false,
         "type": "surface",
         "x": [
          [
           0,
           1
          ],
          [
           0,
           1
          ]
         ],
         "y": [
          [
           0,
           0
          ],
          [
           0,
           0
          ]
         ],
         "z": [
          [
           0,
           0
          ],
          [
           1,
           1
          ]
         ]
        }
       ],
       "layout": {
        "template": {
         "data": {
          "bar": [
           {
            "error_x": {
             "color": "#2a3f5f"
            },
            "error_y": {
             "color": "#2a3f5f"
            },
            "marker": {
             "line": {
              "color": "#E5ECF6",
              "width": 0.5
             },
             "pattern": {
              "fillmode": "overlay",
              "size": 10,
              "solidity": 0.2
             }
            },
            "type": "bar"
           }
          ],
          "barpolar": [
           {
            "marker": {
             "line": {
              "color": "#E5ECF6",
              "width": 0.5
             },
             "pattern": {
              "fillmode": "overlay",
              "size": 10,
              "solidity": 0.2
             }
            },
            "type": "barpolar"
           }
          ],
          "carpet": [
           {
            "aaxis": {
             "endlinecolor": "#2a3f5f",
             "gridcolor": "white",
             "linecolor": "white",
             "minorgridcolor": "white",
             "startlinecolor": "#2a3f5f"
            },
            "baxis": {
             "endlinecolor": "#2a3f5f",
             "gridcolor": "white",
             "linecolor": "white",
             "minorgridcolor": "white",
             "startlinecolor": "#2a3f5f"
            },
            "type": "carpet"
           }
          ],
          "choropleth": [
           {
            "colorbar": {
             "outlinewidth": 0,
             "ticks": ""
            },
            "type": "choropleth"
           }
          ],
          "contour": [
           {
            "colorbar": {
             "outlinewidth": 0,
             "ticks": ""
            },
            "colorscale": [
             [
              0,
              "#0d0887"
             ],
             [
              0.1111111111111111,
              "#46039f"
             ],
             [
              0.2222222222222222,
              "#7201a8"
             ],
             [
              0.3333333333333333,
              "#9c179e"
             ],
             [
              0.4444444444444444,
              "#bd3786"
             ],
             [
              0.5555555555555556,
              "#d8576b"
             ],
             [
              0.6666666666666666,
              "#ed7953"
             ],
             [
              0.7777777777777778,
              "#fb9f3a"
             ],
             [
              0.8888888888888888,
              "#fdca26"
             ],
             [
              1,
              "#f0f921"
             ]
            ],
            "type": "contour"
           }
          ],
          "contourcarpet": [
           {
            "colorbar": {
             "outlinewidth": 0,
             "ticks": ""
            },
            "type": "contourcarpet"
           }
          ],
          "heatmap": [
           {
            "colorbar": {
             "outlinewidth": 0,
             "ticks": ""
            },
            "colorscale": [
             [
              0,
              "#0d0887"
             ],
             [
              0.1111111111111111,
              "#46039f"
             ],
             [
              0.2222222222222222,
              "#7201a8"
             ],
             [
              0.3333333333333333,
              "#9c179e"
             ],
             [
              0.4444444444444444,
              "#bd3786"
             ],
             [
              0.5555555555555556,
              "#d8576b"
             ],
             [
              0.6666666666666666,
              "#ed7953"
             ],
             [
              0.7777777777777778,
              "#fb9f3a"
             ],
             [
              0.8888888888888888,
              "#fdca26"
             ],
             [
              1,
              "#f0f921"
             ]
            ],
            "type": "heatmap"
           }
          ],
          "heatmapgl": [
           {
            "colorbar": {
             "outlinewidth": 0,
             "ticks": ""
            },
            "colorscale": [
             [
              0,
              "#0d0887"
             ],
             [
              0.1111111111111111,
              "#46039f"
             ],
             [
              0.2222222222222222,
              "#7201a8"
             ],
             [
              0.3333333333333333,
              "#9c179e"
             ],
             [
              0.4444444444444444,
              "#bd3786"
             ],
             [
              0.5555555555555556,
              "#d8576b"
             ],
             [
              0.6666666666666666,
              "#ed7953"
             ],
             [
              0.7777777777777778,
              "#fb9f3a"
             ],
             [
              0.8888888888888888,
              "#fdca26"
             ],
             [
              1,
              "#f0f921"
             ]
            ],
            "type": "heatmapgl"
           }
          ],
          "histogram": [
           {
            "marker": {
             "pattern": {
              "fillmode": "overlay",
              "size": 10,
              "solidity": 0.2
             }
            },
            "type": "histogram"
           }
          ],
          "histogram2d": [
           {
            "colorbar": {
             "outlinewidth": 0,
             "ticks": ""
            },
            "colorscale": [
             [
              0,
              "#0d0887"
             ],
             [
              0.1111111111111111,
              "#46039f"
             ],
             [
              0.2222222222222222,
              "#7201a8"
             ],
             [
              0.3333333333333333,
              "#9c179e"
             ],
             [
              0.4444444444444444,
              "#bd3786"
             ],
             [
              0.5555555555555556,
              "#d8576b"
             ],
             [
              0.6666666666666666,
              "#ed7953"
             ],
             [
              0.7777777777777778,
              "#fb9f3a"
             ],
             [
              0.8888888888888888,
              "#fdca26"
             ],
             [
              1,
              "#f0f921"
             ]
            ],
            "type": "histogram2d"
           }
          ],
          "histogram2dcontour": [
           {
            "colorbar": {
             "outlinewidth": 0,
             "ticks": ""
            },
            "colorscale": [
             [
              0,
              "#0d0887"
             ],
             [
              0.1111111111111111,
              "#46039f"
             ],
             [
              0.2222222222222222,
              "#7201a8"
             ],
             [
              0.3333333333333333,
              "#9c179e"
             ],
             [
              0.4444444444444444,
              "#bd3786"
             ],
             [
              0.5555555555555556,
              "#d8576b"
             ],
             [
              0.6666666666666666,
              "#ed7953"
             ],
             [
              0.7777777777777778,
              "#fb9f3a"
             ],
             [
              0.8888888888888888,
              "#fdca26"
             ],
             [
              1,
              "#f0f921"
             ]
            ],
            "type": "histogram2dcontour"
           }
          ],
          "mesh3d": [
           {
            "colorbar": {
             "outlinewidth": 0,
             "ticks": ""
            },
            "type": "mesh3d"
           }
          ],
          "parcoords": [
           {
            "line": {
             "colorbar": {
              "outlinewidth": 0,
              "ticks": ""
             }
            },
            "type": "parcoords"
           }
          ],
          "pie": [
           {
            "automargin": true,
            "type": "pie"
           }
          ],
          "scatter": [
           {
            "fillpattern": {
             "fillmode": "overlay",
             "size": 10,
             "solidity": 0.2
            },
            "type": "scatter"
           }
          ],
          "scatter3d": [
           {
            "line": {
             "colorbar": {
              "outlinewidth": 0,
              "ticks": ""
             }
            },
            "marker": {
             "colorbar": {
              "outlinewidth": 0,
              "ticks": ""
             }
            },
            "type": "scatter3d"
           }
          ],
          "scattercarpet": [
           {
            "marker": {
             "colorbar": {
              "outlinewidth": 0,
              "ticks": ""
             }
            },
            "type": "scattercarpet"
           }
          ],
          "scattergeo": [
           {
            "marker": {
             "colorbar": {
              "outlinewidth": 0,
              "ticks": ""
             }
            },
            "type": "scattergeo"
           }
          ],
          "scattergl": [
           {
            "marker": {
             "colorbar": {
              "outlinewidth": 0,
              "ticks": ""
             }
            },
            "type": "scattergl"
           }
          ],
          "scattermapbox": [
           {
            "marker": {
             "colorbar": {
              "outlinewidth": 0,
              "ticks": ""
             }
            },
            "type": "scattermapbox"
           }
          ],
          "scatterpolar": [
           {
            "marker": {
             "colorbar": {
              "outlinewidth": 0,
              "ticks": ""
             }
            },
            "type": "scatterpolar"
           }
          ],
          "scatterpolargl": [
           {
            "marker": {
             "colorbar": {
              "outlinewidth": 0,
              "ticks": ""
             }
            },
            "type": "scatterpolargl"
           }
          ],
          "scatterternary": [
           {
            "marker": {
             "colorbar": {
              "outlinewidth": 0,
              "ticks": ""
             }
            },
            "type": "scatterternary"
           }
          ],
          "surface": [
           {
            "colorbar": {
             "outlinewidth": 0,
             "ticks": ""
            },
            "colorscale": [
             [
              0,
              "#0d0887"
             ],
             [
              0.1111111111111111,
              "#46039f"
             ],
             [
              0.2222222222222222,
              "#7201a8"
             ],
             [
              0.3333333333333333,
              "#9c179e"
             ],
             [
              0.4444444444444444,
              "#bd3786"
             ],
             [
              0.5555555555555556,
              "#d8576b"
             ],
             [
              0.6666666666666666,
              "#ed7953"
             ],
             [
              0.7777777777777778,
              "#fb9f3a"
             ],
             [
              0.8888888888888888,
              "#fdca26"
             ],
             [
              1,
              "#f0f921"
             ]
            ],
            "type": "surface"
           }
          ],
          "table": [
           {
            "cells": {
             "fill": {
              "color": "#EBF0F8"
             },
             "line": {
              "color": "white"
             }
            },
            "header": {
             "fill": {
              "color": "#C8D4E3"
             },
             "line": {
              "color": "white"
             }
            },
            "type": "table"
           }
          ]
         },
         "layout": {
          "annotationdefaults": {
           "arrowcolor": "#2a3f5f",
           "arrowhead": 0,
           "arrowwidth": 1
          },
          "autotypenumbers": "strict",
          "coloraxis": {
           "colorbar": {
            "outlinewidth": 0,
            "ticks": ""
           }
          },
          "colorscale": {
           "diverging": [
            [
             0,
             "#8e0152"
            ],
            [
             0.1,
             "#c51b7d"
            ],
            [
             0.2,
             "#de77ae"
            ],
            [
             0.3,
             "#f1b6da"
            ],
            [
             0.4,
             "#fde0ef"
            ],
            [
             0.5,
             "#f7f7f7"
            ],
            [
             0.6,
             "#e6f5d0"
            ],
            [
             0.7,
             "#b8e186"
            ],
            [
             0.8,
             "#7fbc41"
            ],
            [
             0.9,
             "#4d9221"
            ],
            [
             1,
             "#276419"
            ]
           ],
           "sequential": [
            [
             0,
             "#0d0887"
            ],
            [
             0.1111111111111111,
             "#46039f"
            ],
            [
             0.2222222222222222,
             "#7201a8"
            ],
            [
             0.3333333333333333,
             "#9c179e"
            ],
            [
             0.4444444444444444,
             "#bd3786"
            ],
            [
             0.5555555555555556,
             "#d8576b"
            ],
            [
             0.6666666666666666,
             "#ed7953"
            ],
            [
             0.7777777777777778,
             "#fb9f3a"
            ],
            [
             0.8888888888888888,
             "#fdca26"
            ],
            [
             1,
             "#f0f921"
            ]
           ],
           "sequentialminus": [
            [
             0,
             "#0d0887"
            ],
            [
             0.1111111111111111,
             "#46039f"
            ],
            [
             0.2222222222222222,
             "#7201a8"
            ],
            [
             0.3333333333333333,
             "#9c179e"
            ],
            [
             0.4444444444444444,
             "#bd3786"
            ],
            [
             0.5555555555555556,
             "#d8576b"
            ],
            [
             0.6666666666666666,
             "#ed7953"
            ],
            [
             0.7777777777777778,
             "#fb9f3a"
            ],
            [
             0.8888888888888888,
             "#fdca26"
            ],
            [
             1,
             "#f0f921"
            ]
           ]
          },
          "colorway": [
           "#636efa",
           "#EF553B",
           "#00cc96",
           "#ab63fa",
           "#FFA15A",
           "#19d3f3",
           "#FF6692",
           "#B6E880",
           "#FF97FF",
           "#FECB52"
          ],
          "font": {
           "color": "#2a3f5f"
          },
          "geo": {
           "bgcolor": "white",
           "lakecolor": "white",
           "landcolor": "#E5ECF6",
           "showlakes": true,
           "showland": true,
           "subunitcolor": "white"
          },
          "hoverlabel": {
           "align": "left"
          },
          "hovermode": "closest",
          "mapbox": {
           "style": "light"
          },
          "paper_bgcolor": "white",
          "plot_bgcolor": "#E5ECF6",
          "polar": {
           "angularaxis": {
            "gridcolor": "white",
            "linecolor": "white",
            "ticks": ""
           },
           "bgcolor": "#E5ECF6",
           "radialaxis": {
            "gridcolor": "white",
            "linecolor": "white",
            "ticks": ""
           }
          },
          "scene": {
           "xaxis": {
            "backgroundcolor": "#E5ECF6",
            "gridcolor": "white",
            "gridwidth": 2,
            "linecolor": "white",
            "showbackground": true,
            "ticks": "",
            "zerolinecolor": "white"
           },
           "yaxis": {
            "backgroundcolor": "#E5ECF6",
            "gridcolor": "white",
            "gridwidth": 2,
            "linecolor": "white",
            "showbackground": true,
            "ticks": "",
            "zerolinecolor": "white"
           },
           "zaxis": {
            "backgroundcolor": "#E5ECF6",
            "gridcolor": "white",
            "gridwidth": 2,
            "linecolor": "white",
            "showbackground": true,
            "ticks": "",
            "zerolinecolor": "white"
           }
          },
          "shapedefaults": {
           "line": {
            "color": "#2a3f5f"
           }
          },
          "ternary": {
           "aaxis": {
            "gridcolor": "white",
            "linecolor": "white",
            "ticks": ""
           },
           "baxis": {
            "gridcolor": "white",
            "linecolor": "white",
            "ticks": ""
           },
           "bgcolor": "#E5ECF6",
           "caxis": {
            "gridcolor": "white",
            "linecolor": "white",
            "ticks": ""
           }
          },
          "title": {
           "x": 0.05
          },
          "xaxis": {
           "automargin": true,
           "gridcolor": "white",
           "linecolor": "white",
           "ticks": "",
           "title": {
            "standoff": 15
           },
           "zerolinecolor": "white",
           "zerolinewidth": 2
          },
          "yaxis": {
           "automargin": true,
           "gridcolor": "white",
           "linecolor": "white",
           "ticks": "",
           "title": {
            "standoff": 15
           },
           "zerolinecolor": "white",
           "zerolinewidth": 2
          }
         }
        }
       }
      }
     },
     "metadata": {},
     "output_type": "display_data"
    }
   ],
   "source": [
    "import numpy as np\n",
    "import plotly.graph_objects as go\n",
    "from plotly.subplots import make_subplots\n",
    "\n",
    "x, z = np.meshgrid(range(2), range(2))\n",
    "y = x*0\n",
    "\n",
    "print(\"======== perceptron of plain above ================\")\n",
    "print(\"          0\")\n",
    "print(\"x1 ---O-----\\\\\")\n",
    "print(\"          1  \\\\\")\n",
    "print(\"x2 ---O--------O---- output\")\n",
    "print(\"          0  / T=1.0\")\n",
    "print(\"x3 ---O-----/\")\n",
    "\n",
    "\n",
    "# plot the surface\n",
    "fig = go.Figure()\n",
    "\n",
    "# original point\n",
    "fig.add_trace(go.Scatter3d(x=[0], y=[0], z=[0], mode='markers'))\n",
    "fig.add_trace(go.Surface(x=x, y=y, z=z, showscale=False, opacity=0.6))\n",
    "\n",
    "fig.show()"
   ]
  },
  {
   "attachments": {},
   "cell_type": "markdown",
   "metadata": {},
   "source": [
    "##### [Solution]\n",
    "######\n",
    "그림에서는 x1과 x3 축이 이루는 평면을 나타내고 있음. 평면의 방정식을 유도하기 위해서 다음과 같은 사항을 알아야함.\n",
    "\n",
    "1. 그 평면을 지나는 점 P0(x0, y0, z0)를 적어도 하나 알아야 한다.\n",
    "\n",
    "> 이 평면을 지나는 점을 (0, 0, 0)이라 하자.\n",
    "\n",
    "2. 그 평면에 수직인 법선벡터를 알아야 한다.\n",
    "\n",
    "이 그림에서의 평면에 수직인 벡터는\n",
    "> $(x_1, x_2, x_3) = (0, k, 0)$ 이고, 벡터 연산으로 표현하면,\\\n",
    "> $t(W^Tx)=t((0 \\ 1 \\ 0)^T (x_1, x_2, x_3))$\n",
    "> t는 비선형 함수\n",
    "\n",
    "따라서 다음 정리하면\n",
    "> 한 점 $(x_0, y_0, z_0)$을 지나고, \\\n",
    "> 법선 벡터가 $n = <a, b, c>$인 \\\n",
    "> 평면의 방정식은 $a(x-x_0) + b(y - y_0) + c(z - z_0) = 0$ 이다.\n",
    "\n",
    "구하고자 하는 평면의 방정식은 $kx_2 = 0$이다. \n",
    "따라서 여기서 나오는 퍼셉트론의 가중치 값은 오로지 x_2의 k값으로만 결정되고, 임계값은 0일 것이다."
   ]
  }
 ],
 "metadata": {
  "kernelspec": {
   "display_name": "study",
   "language": "python",
   "name": "python3"
  },
  "language_info": {
   "codemirror_mode": {
    "name": "ipython",
    "version": 3
   },
   "file_extension": ".py",
   "mimetype": "text/x-python",
   "name": "python",
   "nbconvert_exporter": "python",
   "pygments_lexer": "ipython3",
   "version": "3.8.17"
  },
  "orig_nbformat": 4,
  "vscode": {
   "interpreter": {
    "hash": "6d7e79a67779cae42ce4cf2a5c0a6c614a08c410231acc54a99ba2fe6135aa83"
   }
  }
 },
 "nbformat": 4,
 "nbformat_minor": 2
}
